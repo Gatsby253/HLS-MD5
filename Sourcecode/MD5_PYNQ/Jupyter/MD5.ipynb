{
 "cells": [
  {
   "cell_type": "code",
   "execution_count": 1,
   "metadata": {},
   "outputs": [
    {
     "data": {
      "application/javascript": [
       "\n",
       "require(['notebook/js/codecell'], function(codecell) {\n",
       "  codecell.CodeCell.options_default.highlight_modes[\n",
       "      'magic_text/x-csrc'] = {'reg':[/^%%microblaze/]};\n",
       "  Jupyter.notebook.events.one('kernel_ready.Kernel', function(){\n",
       "      Jupyter.notebook.get_cells().map(function(cell){\n",
       "          if (cell.cell_type == 'code'){ cell.auto_highlight(); } }) ;\n",
       "  });\n",
       "});\n"
      ]
     },
     "metadata": {},
     "output_type": "display_data"
    }
   ],
   "source": [
    "import numpy as np\n",
    "from pynq import Xlnk\n",
    "from pynq import Overlay\n",
    "import os\n",
    "import hashlib\n",
    "import time"
   ]
  },
  {
   "cell_type": "markdown",
   "metadata": {},
   "source": [
    "## Download the MD5 IP bitstream"
   ]
  },
  {
   "cell_type": "code",
   "execution_count": 2,
   "metadata": {},
   "outputs": [],
   "source": [
    "MD5_Design = Overlay(\"./bitstream/MD5VIVADO.bit\")"
   ]
  },
  {
   "cell_type": "markdown",
   "metadata": {},
   "source": [
    "## Create DMA and MD5 IP objects."
   ]
  },
  {
   "cell_type": "code",
   "execution_count": 3,
   "metadata": {},
   "outputs": [],
   "source": [
    "DMA = MD5_Design.axi_dma_0\n",
    "MD5 = MD5_Design.MD5_0"
   ]
  },
  {
   "cell_type": "code",
   "execution_count": 4,
   "metadata": {},
   "outputs": [
    {
     "name": "stdout",
     "output_type": "stream",
     "text": [
      "DMA Channel status: Send:  True  Recv:  True\n"
     ]
    }
   ],
   "source": [
    "sendstatus = DMA.sendchannel.running\n",
    "recvstatus = DMA.recvchannel.running\n",
    "print(\"DMA Channel status: Send: \", sendstatus, \" Recv: \", recvstatus)"
   ]
  },
  {
   "cell_type": "markdown",
   "metadata": {},
   "source": [
    "## Load Data\n",
    "Load a string or a file"
   ]
  },
  {
   "cell_type": "code",
   "execution_count": 5,
   "metadata": {},
   "outputs": [],
   "source": [
    "#string\n",
    "#test_string = b\"lpz7DrML70FVrHqv96NctqSMexImCCv4eozUEQvapLqvQGsEdtHDrUYz\"\n",
    "#data_length = np.dtype(np.uint64)\n",
    "#data_length = len(test_string)\n",
    "#data_in = np.frombuffer(test_string,dtype = np.uint8)\n",
    "\n",
    "#file\n",
    "file_path = \"./testdata/testdata1\" \n",
    "data_length = np.dtype(np.uint64)\n",
    "data_length = os.path.getsize(file_path)\n",
    "data_in = np.fromfile(file_path,dtype = np.uint8)"
   ]
  },
  {
   "cell_type": "markdown",
   "metadata": {},
   "source": [
    "Write data length to MD5 module."
   ]
  },
  {
   "cell_type": "code",
   "execution_count": 6,
   "metadata": {},
   "outputs": [],
   "source": [
    "len0 = np.dtype(np.uint32)\n",
    "len1 = np.dtype(np.uint32)\n",
    "len0 = data_length & 0x00000000FFFFFFFF\n",
    "len1 = (data_length>>32)& 0x00000000FFFFFFFF\n",
    "MD5.write(0x14, len0) #rows\n",
    "MD5.write(0x1c, len1) #cols"
   ]
  },
  {
   "cell_type": "markdown",
   "metadata": {},
   "source": [
    "Allocate memory to process data on PL.\n",
    "Data is provided as contiguous memory blocks."
   ]
  },
  {
   "cell_type": "code",
   "execution_count": 7,
   "metadata": {},
   "outputs": [],
   "source": [
    "xlnk = Xlnk()\n",
    "in_buffer = xlnk.cma_array(shape=(data_length,),dtype=np.uint8)\n",
    "out_buffer = xlnk.cma_array(shape=(4,),dtype=np.uint32)\n",
    "np.copyto(in_buffer,data_in)"
   ]
  },
  {
   "cell_type": "markdown",
   "metadata": {},
   "source": [
    "Start the MD5 process and wait to complete."
   ]
  },
  {
   "cell_type": "code",
   "execution_count": 8,
   "metadata": {
    "scrolled": true
   },
   "outputs": [],
   "source": [
    "DMA.sendchannel.transfer(in_buffer)\n",
    "DMA.recvchannel.transfer(out_buffer)\n",
    "start1 = time.time()\n",
    "MD5.write(0x00,0x81) # start\n",
    "DMA.sendchannel.wait()\n",
    "DMA.recvchannel.wait()\n",
    "end1 = time.time()"
   ]
  },
  {
   "cell_type": "markdown",
   "metadata": {},
   "source": [
    "## Print MD5 Value and elapsed time: FPGA vs ARM CPU"
   ]
  },
  {
   "cell_type": "markdown",
   "metadata": {},
   "source": [
    "FPGA: calculated MD5 value and the elapsed time"
   ]
  },
  {
   "cell_type": "code",
   "execution_count": 9,
   "metadata": {},
   "outputs": [
    {
     "name": "stdout",
     "output_type": "stream",
     "text": [
      "MD5 FPGA:\n",
      "MD5:370bd846600edab7a81b61552c17c1e7\n",
      "Time elapsed:55.73892593 ms.\n"
     ]
    }
   ],
   "source": [
    "print(\"MD5 FPGA:\")\n",
    "print('MD5:%08x%08x%08x%08x' % (out_buffer[0],out_buffer[1],out_buffer[2],out_buffer[3]))\n",
    "print(\"Time elapsed:%.8f ms.\" % ((end1-start1)*1000))"
   ]
  },
  {
   "cell_type": "markdown",
   "metadata": {},
   "source": [
    "ARM CPU: calculated MD5 value and the elapsed time"
   ]
  },
  {
   "cell_type": "code",
   "execution_count": 10,
   "metadata": {},
   "outputs": [
    {
     "name": "stdout",
     "output_type": "stream",
     "text": [
      "MD5 ARM:\n",
      "MD5:370bd846600edab7a81b61552c17c1e7\n",
      "Time elapsed:163.37370872 ms.\n"
     ]
    }
   ],
   "source": [
    "hash_md5 = hashlib.md5()\n",
    "#string\n",
    "#start2 = time.time()\n",
    "#hash_md5.update(test_string)\n",
    "#end2 = time.time()\n",
    "\n",
    "#file\n",
    "start2 = time.time()\n",
    "with open(file_path,'rb') as f:\n",
    "    for chunk in iter(lambda: f.read(4096), b\"\"):\n",
    "            hash_md5.update(chunk)\n",
    "end2 = time.time()\n",
    "\n",
    "print(\"MD5 ARM:\")\n",
    "print(\"MD5:{}\".format(hash_md5.hexdigest()))\n",
    "print(\"Time elapsed:%.8f ms.\" % ((end2-start2)*1000))"
   ]
  },
  {
   "cell_type": "markdown",
   "metadata": {},
   "source": [
    "## Close and reset"
   ]
  },
  {
   "cell_type": "code",
   "execution_count": 11,
   "metadata": {},
   "outputs": [],
   "source": [
    "in_buffer.close()\n",
    "out_buffer.close()"
   ]
  },
  {
   "cell_type": "code",
   "execution_count": 12,
   "metadata": {},
   "outputs": [],
   "source": [
    "xlnk.xlnk_reset()"
   ]
  },
  {
   "cell_type": "code",
   "execution_count": null,
   "metadata": {},
   "outputs": [],
   "source": []
  }
 ],
 "metadata": {
  "kernelspec": {
   "display_name": "Python 3",
   "language": "python",
   "name": "python3"
  },
  "language_info": {
   "codemirror_mode": {
    "name": "ipython",
    "version": 3
   },
   "file_extension": ".py",
   "mimetype": "text/x-python",
   "name": "python",
   "nbconvert_exporter": "python",
   "pygments_lexer": "ipython3",
   "version": "3.6.5"
  }
 },
 "nbformat": 4,
 "nbformat_minor": 2
}
